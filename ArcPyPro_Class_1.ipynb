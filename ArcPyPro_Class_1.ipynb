{
 "cells": [
  {
   "cell_type": "code",
   "execution_count": 1,
   "metadata": {
    "collapsed": true
   },
   "outputs": [],
   "source": [
    "# ArcPy Pro Class 1\n",
    "from arcpy import env"
   ]
  },
  {
   "cell_type": "code",
   "execution_count": 2,
   "metadata": {},
   "outputs": [
    {
     "name": "stdout",
     "output_type": "stream",
     "text": [
      "C:\\Users\\Skenny02\\Documents\\ArcGIS\\Projects\\ArcPyPro_Class_1\\ArcPyPro_Class_1.gdb\n"
     ]
    }
   ],
   "source": [
    "env.workspace = r\"C:\\Users\\Skenny02\\Documents\\ArcGIS\\Projects\\ArcPyPro_Class_1\\ArcPyPro_Class_1.gdb\"\n",
    "env.overwriteOutput = True\n",
    "spot = env.workspace\n",
    "print (spot)"
   ]
  },
  {
   "cell_type": "code",
   "execution_count": 34,
   "metadata": {},
   "outputs": [
    {
     "name": "stdout",
     "output_type": "stream",
     "text": [
      "ArcPy Pro Lesson 1\n"
     ]
    }
   ],
   "source": [
    "import arcpy\n",
    "mappp = arcpy.mp.ArcGISProject(r\"C:\\Users\\Skenny02\\Documents\\ArcGIS\\Projects\\ArcPyPro_Class_1\\ArcPyPro_Class1.aprx\")\n",
    "whichMaps = mappp.listMaps() # get a list of maps matchign the filter\n",
    "for m in whichMaps:\n",
    "  print(m.name)"
   ]
  },
  {
   "cell_type": "code",
   "execution_count": 36,
   "metadata": {},
   "outputs": [
    {
     "name": "stdout",
     "output_type": "stream",
     "text": [
      "Airports\n",
      "EPAOfficesLabs\n",
      "NPLpoints_PROJECTED\n",
      "Statespj\n",
      "National Geographic World Map\n",
      "For output of name, type the following: desc.name\n"
     ]
    },
    {
     "data": {
      "text/plain": [
       "'ArcPyPro_Class_1.gdb'"
      ]
     },
     "execution_count": 36,
     "metadata": {},
     "output_type": "execute_result"
    }
   ],
   "source": [
    "theMappp = mappp.listMaps(\"ArcPy Pro Lesson 1\")[0]\n",
    "layyer = theMappp.listLayers()\n",
    "for layer in layyer:\n",
    "    print(layer.name)\n",
    "\n",
    "desc = arcpy.Describe(spot)\n",
    "desc\n",
    "print (\"For output of name, type the following: desc.name\")\n",
    "desc.name"
   ]
  },
  {
   "cell_type": "code",
   "execution_count": 40,
   "metadata": {},
   "outputs": [
    {
     "name": "stdout",
     "output_type": "stream",
     "text": [
      "False True\n"
     ]
    }
   ],
   "source": [
    "# Method called 'supports'\n",
    "bbb = layyer[0].supports(\"BRIGHTNESS\")\n",
    "ttt = layyer[0].supports(\"TRANSPARENCY\")\n",
    "print (bbb,ttt)"
   ]
  },
  {
   "cell_type": "code",
   "execution_count": 42,
   "metadata": {},
   "outputs": [
    {
     "name": "stdout",
     "output_type": "stream",
     "text": [
      "True\n",
      "True\n",
      "True\n",
      "True\n",
      "True\n"
     ]
    }
   ],
   "source": [
    "for layer in layyer:\n",
    "    print(layer.visible)"
   ]
  },
  {
   "cell_type": "code",
   "execution_count": 43,
   "metadata": {
    "collapsed": true
   },
   "outputs": [],
   "source": [
    "layyer[1].visible = False"
   ]
  },
  {
   "cell_type": "code",
   "execution_count": 44,
   "metadata": {},
   "outputs": [
    {
     "name": "stdout",
     "output_type": "stream",
     "text": [
      "True\n",
      "False\n",
      "True\n",
      "True\n",
      "True\n"
     ]
    }
   ],
   "source": [
    "for layer in layyer:\n",
    "    print(layer.visible)"
   ]
  },
  {
   "cell_type": "code",
   "execution_count": 49,
   "metadata": {
    "collapsed": true
   },
   "outputs": [],
   "source": [
    "# List layouts\n",
    "layyut = mappp.listLayouts()\n",
    "for l in layyut:\n",
    "    print(l.name)"
   ]
  },
  {
   "cell_type": "code",
   "execution_count": 13,
   "metadata": {},
   "outputs": [
    {
     "data": {
      "text/plain": [
       "'ArcPyPro_Class_1'"
      ]
     },
     "execution_count": 13,
     "metadata": {},
     "output_type": "execute_result"
    }
   ],
   "source": [
    "desc.baseName"
   ]
  },
  {
   "cell_type": "code",
   "execution_count": 24,
   "metadata": {},
   "outputs": [
    {
     "data": {
      "text/plain": [
       "'gdb'"
      ]
     },
     "execution_count": 24,
     "metadata": {},
     "output_type": "execute_result"
    }
   ],
   "source": [
    "desc.extension"
   ]
  },
  {
   "cell_type": "code",
   "execution_count": 19,
   "metadata": {},
   "outputs": [
    {
     "data": {
      "text/plain": [
       "'Workspace'"
      ]
     },
     "execution_count": 19,
     "metadata": {},
     "output_type": "execute_result"
    }
   ],
   "source": [
    "desc.dataType"
   ]
  },
  {
   "cell_type": "code",
   "execution_count": 25,
   "metadata": {},
   "outputs": [
    {
     "data": {
      "text/plain": [
       "True"
      ]
     },
     "execution_count": 25,
     "metadata": {},
     "output_type": "execute_result"
    }
   ],
   "source": [
    "desc.fullPropsRetrieved"
   ]
  },
  {
   "cell_type": "code",
   "execution_count": 26,
   "metadata": {},
   "outputs": [
    {
     "data": {
      "text/plain": [
       "'C:\\\\Users\\\\Skenny02\\\\Documents\\\\ArcGIS\\\\Projects\\\\ArcPyPro_Class_1'"
      ]
     },
     "execution_count": 26,
     "metadata": {},
     "output_type": "execute_result"
    }
   ],
   "source": [
    "desc.Path"
   ]
  },
  {
   "cell_type": "code",
   "execution_count": 27,
   "metadata": {},
   "outputs": [
    {
     "data": {
      "text/plain": [
       "'C:\\\\Users\\\\Skenny02\\\\Documents\\\\ArcGIS\\\\Projects\\\\ArcPyPro_Class_1\\\\ArcPyPro_Class_1.gdb'"
      ]
     },
     "execution_count": 27,
     "metadata": {},
     "output_type": "execute_result"
    }
   ],
   "source": [
    "desc.catalogPath"
   ]
  }
 ],
 "metadata": {
  "kernelspec": {
   "display_name": "Python 3",
   "language": "python",
   "name": "python3"
  },
  "language_info": {
   "codemirror_mode": {
    "name": "ipython",
    "version": 3
   },
   "file_extension": ".py",
   "mimetype": "text/x-python",
   "name": "python",
   "nbconvert_exporter": "python",
   "pygments_lexer": "ipython3",
   "version": "3.6.2"
  }
 },
 "nbformat": 4,
 "nbformat_minor": 2
}
